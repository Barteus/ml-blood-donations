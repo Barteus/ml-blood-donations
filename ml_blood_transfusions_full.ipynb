{
  "nbformat": 4,
  "nbformat_minor": 0,
  "metadata": {
    "colab": {
      "name": "ml-blood-transfusions-full.ipynb",
      "version": "0.3.2",
      "provenance": [],
      "collapsed_sections": [
        "NfbqURtsvBBE"
      ]
    },
    "kernelspec": {
      "name": "python3",
      "display_name": "Python 3"
    }
  },
  "cells": [
    {
      "cell_type": "markdown",
      "metadata": {
        "id": "iy6HLYzruVRh",
        "colab_type": "text"
      },
      "source": [
        "# Blood Donation challenge"
      ]
    },
    {
      "cell_type": "code",
      "metadata": {
        "id": "ycHRKMPCo-dJ",
        "colab_type": "code",
        "colab": {}
      },
      "source": [
        "import pandas as pd\n",
        "import seaborn as sns\n",
        "import numpy as np"
      ],
      "execution_count": 0,
      "outputs": []
    },
    {
      "cell_type": "markdown",
      "metadata": {
        "id": "coEVVaYiufyI",
        "colab_type": "text"
      },
      "source": [
        "## Get data"
      ]
    },
    {
      "cell_type": "code",
      "metadata": {
        "id": "mlD7yhbnzkXX",
        "colab_type": "code",
        "outputId": "9954544a-63c9-442e-cf3f-2ea91e6c8209",
        "colab": {
          "base_uri": "https://localhost:8080/",
          "height": 204
        }
      },
      "source": [
        "!wget https://archive.ics.uci.edu/ml/machine-learning-databases/blood-transfusion/transfusion.data"
      ],
      "execution_count": 0,
      "outputs": [
        {
          "output_type": "stream",
          "text": [
            "--2019-08-01 09:13:09--  https://archive.ics.uci.edu/ml/machine-learning-databases/blood-transfusion/transfusion.data\n",
            "Resolving archive.ics.uci.edu (archive.ics.uci.edu)... 128.195.10.252\n",
            "Connecting to archive.ics.uci.edu (archive.ics.uci.edu)|128.195.10.252|:443... connected.\n",
            "HTTP request sent, awaiting response... 200 OK\n",
            "Length: 12843 (13K) [application/x-httpd-php]\n",
            "Saving to: ‘transfusion.data’\n",
            "\n",
            "\rtransfusion.data      0%[                    ]       0  --.-KB/s               \rtransfusion.data    100%[===================>]  12.54K  --.-KB/s    in 0s      \n",
            "\n",
            "2019-08-01 09:13:09 (86.5 MB/s) - ‘transfusion.data’ saved [12843/12843]\n",
            "\n"
          ],
          "name": "stdout"
        }
      ]
    },
    {
      "cell_type": "code",
      "metadata": {
        "id": "rUfcRyt5z50u",
        "colab_type": "code",
        "outputId": "b13f3709-54b1-472b-9342-dcb80025527a",
        "colab": {
          "base_uri": "https://localhost:8080/",
          "height": 34
        }
      },
      "source": [
        "!ls"
      ],
      "execution_count": 0,
      "outputs": [
        {
          "output_type": "stream",
          "text": [
            "sample_data  transfusion.data\n"
          ],
          "name": "stdout"
        }
      ]
    },
    {
      "cell_type": "code",
      "metadata": {
        "id": "n8R6Gbh0u-lf",
        "colab_type": "code",
        "outputId": "c0ce4011-20df-45de-f6cd-5853be2d2900",
        "colab": {
          "base_uri": "https://localhost:8080/",
          "height": 204
        }
      },
      "source": [
        "column_names = [\"Recency\", \"Frequency\", \"Amount\", \"Times\", \"Donation\"]\n",
        "data = pd.read_csv(\"transfusion.data\", names=column_names, header=0)\n",
        "data.head()"
      ],
      "execution_count": 0,
      "outputs": [
        {
          "output_type": "execute_result",
          "data": {
            "text/html": [
              "<div>\n",
              "<style scoped>\n",
              "    .dataframe tbody tr th:only-of-type {\n",
              "        vertical-align: middle;\n",
              "    }\n",
              "\n",
              "    .dataframe tbody tr th {\n",
              "        vertical-align: top;\n",
              "    }\n",
              "\n",
              "    .dataframe thead th {\n",
              "        text-align: right;\n",
              "    }\n",
              "</style>\n",
              "<table border=\"1\" class=\"dataframe\">\n",
              "  <thead>\n",
              "    <tr style=\"text-align: right;\">\n",
              "      <th></th>\n",
              "      <th>Recency</th>\n",
              "      <th>Frequency</th>\n",
              "      <th>Amount</th>\n",
              "      <th>Times</th>\n",
              "      <th>Donation</th>\n",
              "    </tr>\n",
              "  </thead>\n",
              "  <tbody>\n",
              "    <tr>\n",
              "      <th>0</th>\n",
              "      <td>2</td>\n",
              "      <td>50</td>\n",
              "      <td>12500</td>\n",
              "      <td>98</td>\n",
              "      <td>1</td>\n",
              "    </tr>\n",
              "    <tr>\n",
              "      <th>1</th>\n",
              "      <td>0</td>\n",
              "      <td>13</td>\n",
              "      <td>3250</td>\n",
              "      <td>28</td>\n",
              "      <td>1</td>\n",
              "    </tr>\n",
              "    <tr>\n",
              "      <th>2</th>\n",
              "      <td>1</td>\n",
              "      <td>16</td>\n",
              "      <td>4000</td>\n",
              "      <td>35</td>\n",
              "      <td>1</td>\n",
              "    </tr>\n",
              "    <tr>\n",
              "      <th>3</th>\n",
              "      <td>2</td>\n",
              "      <td>20</td>\n",
              "      <td>5000</td>\n",
              "      <td>45</td>\n",
              "      <td>1</td>\n",
              "    </tr>\n",
              "    <tr>\n",
              "      <th>4</th>\n",
              "      <td>1</td>\n",
              "      <td>24</td>\n",
              "      <td>6000</td>\n",
              "      <td>77</td>\n",
              "      <td>0</td>\n",
              "    </tr>\n",
              "  </tbody>\n",
              "</table>\n",
              "</div>"
            ],
            "text/plain": [
              "   Recency  Frequency  Amount  Times  Donation\n",
              "0        2         50   12500     98         1\n",
              "1        0         13    3250     28         1\n",
              "2        1         16    4000     35         1\n",
              "3        2         20    5000     45         1\n",
              "4        1         24    6000     77         0"
            ]
          },
          "metadata": {
            "tags": []
          },
          "execution_count": 4
        }
      ]
    },
    {
      "cell_type": "markdown",
      "metadata": {
        "id": "Zl_Yxm_WusjB",
        "colab_type": "text"
      },
      "source": [
        "## Outliners"
      ]
    },
    {
      "cell_type": "code",
      "metadata": {
        "id": "cACB1pCzwhwa",
        "colab_type": "code",
        "outputId": "76905671-7eb1-4bc7-f7d4-11e71eb985f0",
        "colab": {
          "base_uri": "https://localhost:8080/",
          "height": 286
        }
      },
      "source": [
        "columns = ['Recency', 'Frequency', 'Times']\n",
        "remove_idx = []\n",
        "outliner_min_factor = 1.8\n",
        "outliner_max_factor = 1.8\n",
        "for col in columns:\n",
        "    series_desc = data.describe()[col]\n",
        "    iqr = series_desc['75%']-series_desc['25%']\n",
        "    outliner_min = series_desc['25%']-(iqr*outliner_min_factor)\n",
        "    outliner_max = series_desc['75%']+(iqr*outliner_max_factor)\n",
        "    remove_idx.append(data[data[col]<outliner_min].index.tolist())\n",
        "    remove_idx.append(data[data[col]>outliner_max].index.tolist())\n",
        "\n",
        "[data.drop(idx, inplace=True) for idx in remove_idx]\n",
        "data.reset_index(inplace=True, drop=True)\n",
        "\n",
        "data[columns].plot.kde()"
      ],
      "execution_count": 0,
      "outputs": [
        {
          "output_type": "execute_result",
          "data": {
            "text/plain": [
              "<matplotlib.axes._subplots.AxesSubplot at 0x7f98f95c4e48>"
            ]
          },
          "metadata": {
            "tags": []
          },
          "execution_count": 5
        },
        {
          "output_type": "display_data",
          "data": {
            "image/png": "[encoded data removed]",
            "text/plain": [
              "<Figure size 432x288 with 1 Axes>"
            ]
          },
          "metadata": {
            "tags": []
          }
        }
      ]
    },
    {
      "cell_type": "code",
      "metadata": {
        "id": "MsJcfgR0w7hD",
        "colab_type": "code",
        "colab": {}
      },
      "source": [
        "features = data[columns]\n",
        "target = data['Donation']"
      ],
      "execution_count": 0,
      "outputs": []
    },
    {
      "cell_type": "markdown",
      "metadata": {
        "id": "E2yMHJ0kuwlN",
        "colab_type": "text"
      },
      "source": [
        "## Distribution fixing"
      ]
    },
    {
      "cell_type": "code",
      "metadata": {
        "id": "APC0ju2fvKig",
        "colab_type": "code",
        "colab": {}
      },
      "source": [
        "from sklearn.preprocessing import PowerTransformer, KBinsDiscretizer"
      ],
      "execution_count": 0,
      "outputs": []
    },
    {
      "cell_type": "code",
      "metadata": {
        "id": "zYbPD3gpvBL-",
        "colab_type": "code",
        "colab": {}
      },
      "source": [
        "features_transformed = features.values"
      ],
      "execution_count": 0,
      "outputs": []
    },
    {
      "cell_type": "code",
      "metadata": {
        "id": "7rW9dhztt9ko",
        "colab_type": "code",
        "outputId": "b648054d-4d7a-403d-805d-774cb9bccca3",
        "colab": {
          "base_uri": "https://localhost:8080/",
          "height": 85
        }
      },
      "source": [
        "binning_transformer = KBinsDiscretizer(n_bins=10, encode='ordinal')\n",
        "binning = binning_transformer.fit_transform(features_transformed)\n",
        "features_transformed[:,0] = binning[:,0]"
      ],
      "execution_count": 0,
      "outputs": [
        {
          "output_type": "stream",
          "text": [
            "/usr/local/lib/python3.6/dist-packages/sklearn/preprocessing/_discretization.py:193: UserWarning: Bins whose width are too small (i.e., <= 1e-8) in feature 0 are removed. Consider decreasing the number of bins.\n",
            "  'decreasing the number of bins.' % jj)\n",
            "/usr/local/lib/python3.6/dist-packages/sklearn/preprocessing/_discretization.py:193: UserWarning: Bins whose width are too small (i.e., <= 1e-8) in feature 1 are removed. Consider decreasing the number of bins.\n",
            "  'decreasing the number of bins.' % jj)\n"
          ],
          "name": "stderr"
        }
      ]
    },
    {
      "cell_type": "code",
      "metadata": {
        "id": "wNEvFwaquC3e",
        "colab_type": "code",
        "colab": {}
      },
      "source": [
        "power_transformer = PowerTransformer(standardize=False)\n",
        "features_transformed = power_transformer.fit_transform(features_transformed)"
      ],
      "execution_count": 0,
      "outputs": []
    },
    {
      "cell_type": "code",
      "metadata": {
        "id": "qwzqBD34uKJI",
        "colab_type": "code",
        "outputId": "29add05c-6e80-4a7a-9cd3-8dbcd3f95647",
        "colab": {
          "base_uri": "https://localhost:8080/",
          "height": 366
        }
      },
      "source": [
        "df_features_transformed = pd.DataFrame(features_transformed, columns=['Recency', 'Frequency', 'Times'])\n",
        "df_features_transformed.hist()"
      ],
      "execution_count": 0,
      "outputs": [
        {
          "output_type": "execute_result",
          "data": {
            "text/plain": [
              "array([[<matplotlib.axes._subplots.AxesSubplot object at 0x7f98f5595278>,\n",
              "        <matplotlib.axes._subplots.AxesSubplot object at 0x7f98f5537f60>],\n",
              "       [<matplotlib.axes._subplots.AxesSubplot object at 0x7f98f5567518>,\n",
              "        <matplotlib.axes._subplots.AxesSubplot object at 0x7f98f550fa90>]],\n",
              "      dtype=object)"
            ]
          },
          "metadata": {
            "tags": []
          },
          "execution_count": 11
        },
        {
          "output_type": "display_data",
          "data": {
            "image/png": "[encoded data removed]",
            "text/plain": [
              "<Figure size 432x288 with 4 Axes>"
            ]
          },
          "metadata": {
            "tags": []
          }
        }
      ]
    },
    {
      "cell_type": "markdown",
      "metadata": {
        "colab_type": "text",
        "id": "wgpgv7IHozPe"
      },
      "source": [
        "## Oversampling"
      ]
    },
    {
      "cell_type": "code",
      "metadata": {
        "colab_type": "code",
        "id": "nilP8WP7ozPp",
        "outputId": "fbb696a6-2de3-4aa3-c401-a753cb4de644",
        "colab": {
          "base_uri": "https://localhost:8080/",
          "height": 337
        }
      },
      "source": [
        "from imblearn.over_sampling import SMOTE\n",
        "over_sampling = SMOTE(random_state=42, k_neighbors=5)\n",
        "df_features_transformed, y_over_sampled = over_sampling.fit_resample(df_features_transformed, target)\n",
        "sns.countplot(x='Donation', data=pd.DataFrame(y_over_sampled, columns=['Donation']));"
      ],
      "execution_count": 0,
      "outputs": [
        {
          "output_type": "stream",
          "text": [
            "/usr/local/lib/python3.6/dist-packages/sklearn/externals/six.py:31: DeprecationWarning: The module is deprecated in version 0.21 and will be removed in version 0.23 since we've dropped support for Python 2.7. Please rely on the official version of six (https://pypi.org/project/six/).\n",
            "  \"(https://pypi.org/project/six/).\", DeprecationWarning)\n"
          ],
          "name": "stderr"
        },
        {
          "output_type": "display_data",
          "data": {
            "image/png": "[encoded data removed]",
            "text/plain": [
              "<Figure size 432x288 with 1 Axes>"
            ]
          },
          "metadata": {
            "tags": []
          }
        }
      ]
    },
    {
      "cell_type": "markdown",
      "metadata": {
        "id": "OJ4lclZ-wRIa",
        "colab_type": "text"
      },
      "source": [
        "## Clean data output"
      ]
    },
    {
      "cell_type": "code",
      "metadata": {
        "id": "oXACwvcjwUKf",
        "colab_type": "code",
        "outputId": "4f66bbd9-3c4d-4247-8486-3484f2a7e1a2",
        "colab": {
          "base_uri": "https://localhost:8080/",
          "height": 204
        }
      },
      "source": [
        "output_data = np.column_stack((df_features_transformed, y_over_sampled))\n",
        "output = pd.DataFrame(output_data, columns=['Recency', 'Frequency', 'Times', 'Donation'])\n",
        "output.head()"
      ],
      "execution_count": 0,
      "outputs": [
        {
          "output_type": "execute_result",
          "data": {
            "text/html": [
              "<div>\n",
              "<style scoped>\n",
              "    .dataframe tbody tr th:only-of-type {\n",
              "        vertical-align: middle;\n",
              "    }\n",
              "\n",
              "    .dataframe tbody tr th {\n",
              "        vertical-align: top;\n",
              "    }\n",
              "\n",
              "    .dataframe thead th {\n",
              "        text-align: right;\n",
              "    }\n",
              "</style>\n",
              "<table border=\"1\" class=\"dataframe\">\n",
              "  <thead>\n",
              "    <tr style=\"text-align: right;\">\n",
              "      <th></th>\n",
              "      <th>Recency</th>\n",
              "      <th>Frequency</th>\n",
              "      <th>Times</th>\n",
              "      <th>Donation</th>\n",
              "    </tr>\n",
              "  </thead>\n",
              "  <tbody>\n",
              "    <tr>\n",
              "      <th>0</th>\n",
              "      <td>0.000000</td>\n",
              "      <td>2.137547</td>\n",
              "      <td>7.095816</td>\n",
              "      <td>1.0</td>\n",
              "    </tr>\n",
              "    <tr>\n",
              "      <th>1</th>\n",
              "      <td>0.000000</td>\n",
              "      <td>2.260914</td>\n",
              "      <td>7.960593</td>\n",
              "      <td>1.0</td>\n",
              "    </tr>\n",
              "    <tr>\n",
              "      <th>2</th>\n",
              "      <td>1.218818</td>\n",
              "      <td>1.412639</td>\n",
              "      <td>2.256640</td>\n",
              "      <td>0.0</td>\n",
              "    </tr>\n",
              "    <tr>\n",
              "      <th>3</th>\n",
              "      <td>0.739778</td>\n",
              "      <td>1.758923</td>\n",
              "      <td>4.875792</td>\n",
              "      <td>1.0</td>\n",
              "    </tr>\n",
              "    <tr>\n",
              "      <th>4</th>\n",
              "      <td>0.000000</td>\n",
              "      <td>2.089401</td>\n",
              "      <td>7.960593</td>\n",
              "      <td>0.0</td>\n",
              "    </tr>\n",
              "  </tbody>\n",
              "</table>\n",
              "</div>"
            ],
            "text/plain": [
              "    Recency  Frequency     Times  Donation\n",
              "0  0.000000   2.137547  7.095816       1.0\n",
              "1  0.000000   2.260914  7.960593       1.0\n",
              "2  1.218818   1.412639  2.256640       0.0\n",
              "3  0.739778   1.758923  4.875792       1.0\n",
              "4  0.000000   2.089401  7.960593       0.0"
            ]
          },
          "metadata": {
            "tags": []
          },
          "execution_count": 13
        }
      ]
    },
    {
      "cell_type": "markdown",
      "metadata": {
        "id": "NfbqURtsvBBE",
        "colab_type": "text"
      },
      "source": [
        "## Model - XGBoost"
      ]
    },
    {
      "cell_type": "code",
      "metadata": {
        "id": "qpVOYmdQw_Kw",
        "colab_type": "code",
        "colab": {}
      },
      "source": [
        "# x = output.drop('Donation', axis=1)\n",
        "# y = output.Donation"
      ],
      "execution_count": 0,
      "outputs": []
    },
    {
      "cell_type": "code",
      "metadata": {
        "id": "4FyiLUVRaBv3",
        "colab_type": "code",
        "colab": {}
      },
      "source": [
        "# from sklearn.model_selection import StratifiedKFold\n",
        "# skf = StratifiedKFold(n_splits=3, shuffle = True, random_state = 1001)"
      ],
      "execution_count": 0,
      "outputs": []
    },
    {
      "cell_type": "code",
      "metadata": {
        "id": "QkziH3kC8jnq",
        "colab_type": "code",
        "colab": {}
      },
      "source": [
        "# from sklearn.model_selection import RandomizedSearchCV, GridSearchCV\n",
        "# from xgboost import XGBClassifier\n",
        "\n",
        "# params_model1 = {\n",
        "#     'booster': ['dart', 'gbtree'],\n",
        "#     'learning_rate': [0.001, 0.01, 0.05, 0.1],\n",
        "#     'min_child_weight': [1,5,10,15,20],\n",
        "#     'gamma': [0, 0.5, 1, 1.5, 2, 5],\n",
        "#     'subsample': [0.6, 0.8, 1.0],\n",
        "#     'colsample_bytree': [0.6, 0.8, 1.0],\n",
        "#     'max_depth': [3, 4, 5, 6, 7, 8],\n",
        "#     'max_delta_step': [0, 1, 2,3,5, 10],\n",
        "#     'base_score': [0.3, 0.35, 0.4, 0.45, 0.5, 0.55, 0.6, 0.65],\n",
        "#     'reg_alpha':[0, 0.5, 1, 1.5, 2],\n",
        "#     'reg_lambda': [0, 0.5, 1, 1.5, 2]\n",
        "# }\n",
        "\n",
        "# model1 = XGBClassifier(n_estimators=1000, learning_rate=0.01, subsample=0.8, \n",
        "#                       gamma=0, max_depth=4, colsample_bytree=1, )\n",
        "# rs_model1 = RandomizedSearchCV(model1, param_distributions=params_model1, n_iter=10, \n",
        "#                                scoring='roc_auc', n_jobs=4, cv=skf.split(x,y), verbose=3, random_state=1001 )\n",
        "# rs_model1.fit(x,y)\n",
        "\n",
        "# rs_model1.best_score_, rs_model1.best_params_ "
      ],
      "execution_count": 0,
      "outputs": []
    },
    {
      "cell_type": "markdown",
      "metadata": {
        "id": "q3_iOYBy2Ysz",
        "colab_type": "text"
      },
      "source": [
        "## AutoML - H2O"
      ]
    },
    {
      "cell_type": "code",
      "metadata": {
        "id": "5-_gIXNKCUKv",
        "colab_type": "code",
        "outputId": "888c4e05-3b8d-42a6-f6e0-c45a0e12226c",
        "colab": {
          "base_uri": "https://localhost:8080/",
          "height": 527
        }
      },
      "source": [
        "! apt-get install default-jre\n",
        "! java -version\n",
        "! pip install h2o"
      ],
      "execution_count": 0,
      "outputs": [
        {
          "output_type": "stream",
          "text": [
            "Reading package lists... Done\n",
            "Building dependency tree       \n",
            "Reading state information... Done\n",
            "default-jre is already the newest version (2:1.11-68ubuntu1~18.04.1).\n",
            "default-jre set to manually installed.\n",
            "The following package was automatically installed and is no longer required:\n",
            "  libnvidia-common-410\n",
            "Use 'apt autoremove' to remove it.\n",
            "0 upgraded, 0 newly installed, 0 to remove and 7 not upgraded.\n",
            "openjdk version \"11.0.3\" 2019-04-16\n",
            "OpenJDK Runtime Environment (build 11.0.3+7-Ubuntu-1ubuntu218.04.1)\n",
            "OpenJDK 64-Bit Server VM (build 11.0.3+7-Ubuntu-1ubuntu218.04.1, mixed mode, sharing)\n",
            "Collecting h2o\n",
            "\u001b[?25l  Downloading https://files.pythonhosted.org/packages/5b/73/588dd867f9b41a39d313ac03d8642d2c9dd1fbef8155e5ba50f03ffa29c1/h2o-3.26.0.2.tar.gz (122.7MB)\n",
            "\u001b[K     |████████████████████████████████| 122.7MB 203kB/s \n",
            "\u001b[?25hRequirement already satisfied: requests in /usr/local/lib/python3.6/dist-packages (from h2o) (2.21.0)\n",
            "Requirement already satisfied: tabulate in /usr/local/lib/python3.6/dist-packages (from h2o) (0.8.3)\n",
            "Requirement already satisfied: future in /usr/local/lib/python3.6/dist-packages (from h2o) (0.16.0)\n",
            "Collecting colorama>=0.3.8 (from h2o)\n",
            "  Downloading https://files.pythonhosted.org/packages/4f/a6/728666f39bfff1719fc94c481890b2106837da9318031f71a8424b662e12/colorama-0.4.1-py2.py3-none-any.whl\n",
            "Requirement already satisfied: chardet<3.1.0,>=3.0.2 in /usr/local/lib/python3.6/dist-packages (from requests->h2o) (3.0.4)\n",
            "Requirement already satisfied: certifi>=2017.4.17 in /usr/local/lib/python3.6/dist-packages (from requests->h2o) (2019.6.16)\n",
            "Requirement already satisfied: urllib3<1.25,>=1.21.1 in /usr/local/lib/python3.6/dist-packages (from requests->h2o) (1.24.3)\n",
            "Requirement already satisfied: idna<2.9,>=2.5 in /usr/local/lib/python3.6/dist-packages (from requests->h2o) (2.8)\n",
            "Building wheels for collected packages: h2o\n",
            "  Building wheel for h2o (setup.py) ... \u001b[?25l\u001b[?25hdone\n",
            "  Stored in directory: /root/.cache/pip/wheels/76/01/62/d6b7bfc9d599463401118db95eab37c134a6f24040828d31ab\n",
            "Successfully built h2o\n",
            "Installing collected packages: colorama, h2o\n",
            "Successfully installed colorama-0.4.1 h2o-3.26.0.2\n"
          ],
          "name": "stdout"
        }
      ]
    },
    {
      "cell_type": "code",
      "metadata": {
        "id": "MRF1ic_s2Xqc",
        "colab_type": "code",
        "outputId": "47aff4bb-acc0-451d-b013-4112a27fb415",
        "colab": {
          "base_uri": "https://localhost:8080/",
          "height": 508
        }
      },
      "source": [
        "import h2o\n",
        "from h2o.automl import H2OAutoML\n",
        "h2o.init()"
      ],
      "execution_count": 0,
      "outputs": [
        {
          "output_type": "stream",
          "text": [
            "Checking whether there is an H2O instance running at http://localhost:54321 ..... not found.\n",
            "Attempting to start a local H2O server...\n",
            "  Java Version: openjdk version \"11.0.3\" 2019-04-16; OpenJDK Runtime Environment (build 11.0.3+7-Ubuntu-1ubuntu218.04.1); OpenJDK 64-Bit Server VM (build 11.0.3+7-Ubuntu-1ubuntu218.04.1, mixed mode, sharing)\n",
            "  Starting server from /usr/local/lib/python3.6/dist-packages/h2o/backend/bin/h2o.jar\n",
            "  Ice root: /tmp/tmpidt3kvhc\n",
            "  JVM stdout: /tmp/tmpidt3kvhc/h2o_unknownUser_started_from_python.out\n",
            "  JVM stderr: /tmp/tmpidt3kvhc/h2o_unknownUser_started_from_python.err\n",
            "  Server is running at http://127.0.0.1:54321\n",
            "Connecting to H2O server at http://127.0.0.1:54321 ... successful.\n"
          ],
          "name": "stdout"
        },
        {
          "output_type": "display_data",
          "data": {
            "text/html": [
              "<div style=\"overflow:auto\"><table style=\"width:50%\"><tr><td>H2O cluster uptime:</td>\n",
              "<td>02 secs</td></tr>\n",
              "<tr><td>H2O cluster timezone:</td>\n",
              "<td>Etc/UTC</td></tr>\n",
              "<tr><td>H2O data parsing timezone:</td>\n",
              "<td>UTC</td></tr>\n",
              "<tr><td>H2O cluster version:</td>\n",
              "<td>3.26.0.2</td></tr>\n",
              "<tr><td>H2O cluster version age:</td>\n",
              "<td>5 days </td></tr>\n",
              "<tr><td>H2O cluster name:</td>\n",
              "<td>H2O_from_python_unknownUser_oatne3</td></tr>\n",
              "<tr><td>H2O cluster total nodes:</td>\n",
              "<td>1</td></tr>\n",
              "<tr><td>H2O cluster free memory:</td>\n",
              "<td>3 Gb</td></tr>\n",
              "<tr><td>H2O cluster total cores:</td>\n",
              "<td>2</td></tr>\n",
              "<tr><td>H2O cluster allowed cores:</td>\n",
              "<td>2</td></tr>\n",
              "<tr><td>H2O cluster status:</td>\n",
              "<td>accepting new members, healthy</td></tr>\n",
              "<tr><td>H2O connection url:</td>\n",
              "<td>http://127.0.0.1:54321</td></tr>\n",
              "<tr><td>H2O connection proxy:</td>\n",
              "<td>None</td></tr>\n",
              "<tr><td>H2O internal security:</td>\n",
              "<td>False</td></tr>\n",
              "<tr><td>H2O API Extensions:</td>\n",
              "<td>Amazon S3, XGBoost, Algos, AutoML, Core V3, Core V4</td></tr>\n",
              "<tr><td>Python version:</td>\n",
              "<td>3.6.8 final</td></tr></table></div>"
            ],
            "text/plain": [
              "--------------------------  ---------------------------------------------------\n",
              "H2O cluster uptime:         02 secs\n",
              "H2O cluster timezone:       Etc/UTC\n",
              "H2O data parsing timezone:  UTC\n",
              "H2O cluster version:        3.26.0.2\n",
              "H2O cluster version age:    5 days\n",
              "H2O cluster name:           H2O_from_python_unknownUser_oatne3\n",
              "H2O cluster total nodes:    1\n",
              "H2O cluster free memory:    3 Gb\n",
              "H2O cluster total cores:    2\n",
              "H2O cluster allowed cores:  2\n",
              "H2O cluster status:         accepting new members, healthy\n",
              "H2O connection url:         http://127.0.0.1:54321\n",
              "H2O connection proxy:\n",
              "H2O internal security:      False\n",
              "H2O API Extensions:         Amazon S3, XGBoost, Algos, AutoML, Core V3, Core V4\n",
              "Python version:             3.6.8 final\n",
              "--------------------------  ---------------------------------------------------"
            ]
          },
          "metadata": {
            "tags": []
          }
        }
      ]
    },
    {
      "cell_type": "code",
      "metadata": {
        "id": "FjygyHVlCygG",
        "colab_type": "code",
        "outputId": "686a00d1-4d79-4adc-b265-e947cf982010",
        "colab": {
          "base_uri": "https://localhost:8080/",
          "height": 51
        }
      },
      "source": [
        "h2o_data = h2o.H2OFrame(output)\n",
        "h2o_data[3] = h2o_data[3].asfactor()\n",
        "aml = H2OAutoML(max_models = 10, seed = 1)\n",
        "aml.train(y = 3, training_frame = h2o_data)"
      ],
      "execution_count": 0,
      "outputs": [
        {
          "output_type": "stream",
          "text": [
            "Parse progress: |█████████████████████████████████████████████████████████| 100%\n",
            "AutoML progress: |████████████████████████████████████████████████████████| 100%\n"
          ],
          "name": "stdout"
        }
      ]
    },
    {
      "cell_type": "code",
      "metadata": {
        "id": "Q5bJehJYEr9C",
        "colab_type": "code",
        "outputId": "c9a6506a-fee5-4a31-e395-a1a9d5322e85",
        "colab": {
          "base_uri": "https://localhost:8080/",
          "height": 250
        }
      },
      "source": [
        "lb = aml.leaderboard\n",
        "lb"
      ],
      "execution_count": 0,
      "outputs": [
        {
          "output_type": "display_data",
          "data": {
            "text/html": [
              "<table>\n",
              "<thead>\n",
              "<tr><th>model_id                                           </th><th style=\"text-align: right;\">     auc</th><th style=\"text-align: right;\">  logloss</th><th style=\"text-align: right;\">  mean_per_class_error</th><th style=\"text-align: right;\">    rmse</th><th style=\"text-align: right;\">     mse</th></tr>\n",
              "</thead>\n",
              "<tbody>\n",
              "<tr><td>GBM_1_AutoML_20190801_091352                       </td><td style=\"text-align: right;\">0.896422</td><td style=\"text-align: right;\"> 0.406105</td><td style=\"text-align: right;\">              0.184783</td><td style=\"text-align: right;\">0.358389</td><td style=\"text-align: right;\">0.128443</td></tr>\n",
              "<tr><td>StackedEnsemble_BestOfFamily_AutoML_20190801_091352</td><td style=\"text-align: right;\">0.893717</td><td style=\"text-align: right;\"> 0.409646</td><td style=\"text-align: right;\">              0.1875  </td><td style=\"text-align: right;\">0.360592</td><td style=\"text-align: right;\">0.130026</td></tr>\n",
              "<tr><td>StackedEnsemble_AllModels_AutoML_20190801_091352   </td><td style=\"text-align: right;\">0.893717</td><td style=\"text-align: right;\"> 0.409646</td><td style=\"text-align: right;\">              0.1875  </td><td style=\"text-align: right;\">0.360592</td><td style=\"text-align: right;\">0.130026</td></tr>\n",
              "<tr><td>GBM_3_AutoML_20190801_091352                       </td><td style=\"text-align: right;\">0.880684</td><td style=\"text-align: right;\"> 0.435507</td><td style=\"text-align: right;\">              0.197464</td><td style=\"text-align: right;\">0.37316 </td><td style=\"text-align: right;\">0.139248</td></tr>\n",
              "<tr><td>DRF_1_AutoML_20190801_091352                       </td><td style=\"text-align: right;\">0.879772</td><td style=\"text-align: right;\"> 0.439708</td><td style=\"text-align: right;\">              0.197464</td><td style=\"text-align: right;\">0.375662</td><td style=\"text-align: right;\">0.141122</td></tr>\n",
              "<tr><td>GBM_4_AutoML_20190801_091352                       </td><td style=\"text-align: right;\">0.879657</td><td style=\"text-align: right;\"> 0.434405</td><td style=\"text-align: right;\">              0.220109</td><td style=\"text-align: right;\">0.374295</td><td style=\"text-align: right;\">0.140097</td></tr>\n",
              "<tr><td>GBM_2_AutoML_20190801_091352                       </td><td style=\"text-align: right;\">0.878036</td><td style=\"text-align: right;\"> 0.440323</td><td style=\"text-align: right;\">              0.20471 </td><td style=\"text-align: right;\">0.376853</td><td style=\"text-align: right;\">0.142018</td></tr>\n",
              "<tr><td>XGBoost_3_AutoML_20190801_091352                   </td><td style=\"text-align: right;\">0.85629 </td><td style=\"text-align: right;\"> 0.481346</td><td style=\"text-align: right;\">              0.224638</td><td style=\"text-align: right;\">0.395488</td><td style=\"text-align: right;\">0.156411</td></tr>\n",
              "<tr><td>XGBoost_1_AutoML_20190801_091352                   </td><td style=\"text-align: right;\">0.843297</td><td style=\"text-align: right;\"> 0.50094 </td><td style=\"text-align: right;\">              0.234601</td><td style=\"text-align: right;\">0.404952</td><td style=\"text-align: right;\">0.163986</td></tr>\n",
              "<tr><td>XGBoost_2_AutoML_20190801_091352                   </td><td style=\"text-align: right;\">0.814156</td><td style=\"text-align: right;\"> 0.534899</td><td style=\"text-align: right;\">              0.270833</td><td style=\"text-align: right;\">0.422185</td><td style=\"text-align: right;\">0.17824 </td></tr>\n",
              "</tbody>\n",
              "</table>"
            ]
          },
          "metadata": {
            "tags": []
          }
        },
        {
          "output_type": "execute_result",
          "data": {
            "text/plain": [
              ""
            ]
          },
          "metadata": {
            "tags": []
          },
          "execution_count": 20
        }
      ]
    }
  ]
}